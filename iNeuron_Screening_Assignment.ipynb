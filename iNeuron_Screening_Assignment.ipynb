{
 "cells": [
  {
   "cell_type": "markdown",
   "id": "6153fbe1",
   "metadata": {},
   "source": [
    "# File Operation"
   ]
  },
  {
   "cell_type": "code",
   "execution_count": 34,
   "id": "d9e97521",
   "metadata": {},
   "outputs": [],
   "source": [
    "def read_file(file_name):\n",
    "    try:\n",
    "        with open(file_name, 'r') as f:\n",
    "            file_content = f.read()\n",
    "        return file_content\n",
    "    except Exception as e:\n",
    "        raise e\n",
    "\n",
    "\n",
    "def replace_string(file_name, old_string, new_string):\n",
    "    try:\n",
    "        old_file_content = read_file(file_name)\n",
    "        new_content = old_file_content.replace(old_string, new_string)\n",
    "        with open(file_name, 'w') as f:\n",
    "            f.write(new_content)\n",
    "        new_file_content = read_file(file_name)\n",
    "        return new_file_content\n",
    "    except Exception as e:\n",
    "        return f'Error occured to replace string : {e}'\n",
    "    \n",
    "\n"
   ]
  },
  {
   "cell_type": "code",
   "execution_count": 35,
   "id": "0664991b",
   "metadata": {},
   "outputs": [
    {
     "name": "stdout",
     "output_type": "stream",
     "text": [
      "Replaced file content :  This is a screening assignment\n"
     ]
    }
   ],
   "source": [
    "new_file_content = replace_string('example.txt', 'placement', 'screening')\n",
    "print('Replaced file content : ', new_file_content)"
   ]
  },
  {
   "cell_type": "markdown",
   "id": "18a469e8",
   "metadata": {},
   "source": [
    "# Abstract Class"
   ]
  },
  {
   "cell_type": "code",
   "execution_count": 36,
   "id": "4dd273de",
   "metadata": {},
   "outputs": [
    {
     "name": "stdout",
     "output_type": "stream",
     "text": [
      "Apple is Red\n",
      "Banana is Yellow\n"
     ]
    }
   ],
   "source": [
    "from abc import ABC, abstractmethod\n",
    "\n",
    "class Fruit(ABC):\n",
    "    @abstractmethod\n",
    "    def color(Self):\n",
    "        pass\n",
    "    \n",
    "class Apple(Fruit):\n",
    "    def color(self):\n",
    "        print('Apple is Red')\n",
    "\n",
    "class Banana(Fruit):\n",
    "    def color(self):\n",
    "        print('Banana is Yellow')\n",
    "        \n",
    "apple = Apple()\n",
    "apple.color()\n",
    "\n",
    "banana = Banana()\n",
    "banana.color()"
   ]
  },
  {
   "cell_type": "markdown",
   "id": "db07f901",
   "metadata": {},
   "source": [
    "# Multiple Inheritence"
   ]
  },
  {
   "cell_type": "code",
   "execution_count": 37,
   "id": "d8097228",
   "metadata": {},
   "outputs": [
    {
     "name": "stdout",
     "output_type": "stream",
     "text": [
      "My name is Sayan Saha\n",
      "I live in Kolkata\n",
      "My age is 22\n"
     ]
    }
   ],
   "source": [
    "class About:\n",
    "    def name(self):\n",
    "        print('My name is Sayan Saha')\n",
    "class Location:\n",
    "    def city(self):\n",
    "        print('I live in Kolkata')\n",
    "class Profile(About, Location):\n",
    "    def age(self):\n",
    "        print('My age is 22')\n",
    "\n",
    "obj = Profile()\n",
    "obj.name()\n",
    "obj.city()\n",
    "obj.age()"
   ]
  },
  {
   "cell_type": "markdown",
   "id": "928b8314",
   "metadata": {},
   "source": [
    "# Decorator"
   ]
  },
  {
   "cell_type": "code",
   "execution_count": 38,
   "id": "d5c4e5de",
   "metadata": {},
   "outputs": [],
   "source": [
    "def advanced_divide(func):\n",
    "    def get_division(a,b):\n",
    "        if b==0:\n",
    "            print('Division by zero not possible!')\n",
    "            return\n",
    "        return func(a,b)\n",
    "    return get_division\n",
    "\n",
    "@advanced_divide     #Here advanced_divide is a decorator\n",
    "def divide(a,b):\n",
    "    print(a/b)"
   ]
  },
  {
   "cell_type": "code",
   "execution_count": 39,
   "id": "251966e4",
   "metadata": {},
   "outputs": [
    {
     "name": "stdout",
     "output_type": "stream",
     "text": [
      "Division by zero not possible!\n"
     ]
    }
   ],
   "source": [
    "divide(3,0)"
   ]
  },
  {
   "cell_type": "code",
   "execution_count": 42,
   "id": "052c7d30",
   "metadata": {},
   "outputs": [
    {
     "name": "stdout",
     "output_type": "stream",
     "text": [
      "4.0\n"
     ]
    }
   ],
   "source": [
    "divide(20,5)"
   ]
  },
  {
   "cell_type": "code",
   "execution_count": null,
   "id": "985b6527",
   "metadata": {},
   "outputs": [],
   "source": []
  }
 ],
 "metadata": {
  "kernelspec": {
   "display_name": "Python 3 (ipykernel)",
   "language": "python",
   "name": "python3"
  },
  "language_info": {
   "codemirror_mode": {
    "name": "ipython",
    "version": 3
   },
   "file_extension": ".py",
   "mimetype": "text/x-python",
   "name": "python",
   "nbconvert_exporter": "python",
   "pygments_lexer": "ipython3",
   "version": "3.9.7"
  }
 },
 "nbformat": 4,
 "nbformat_minor": 5
}
